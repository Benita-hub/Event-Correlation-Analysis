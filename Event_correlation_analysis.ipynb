{
  "cells": [
    {
      "cell_type": "code",
      "execution_count": null,
      "id": "c2fad43a-a768-4738-b0f4-ed681bf7f61b",
      "metadata": {
        "tags": [],
        "id": "c2fad43a-a768-4738-b0f4-ed681bf7f61b"
      },
      "outputs": [],
      "source": [
        "import pandas as pd\n",
        "import numpy as np\n",
        "from sklearn import preprocessing\n",
        "import torch\n",
        "import torch.nn as nn\n",
        "from torch.utils.data import Dataset, DataLoader\n",
        "import torch.optim as optim"
      ]
    },
    {
      "cell_type": "code",
      "source": [
        "from google.colab import drive\n",
        "drive.mount('/content/drive')"
      ],
      "metadata": {
        "id": "5GXBkLTTlxbP"
      },
      "id": "5GXBkLTTlxbP",
      "execution_count": null,
      "outputs": []
    },
    {
      "cell_type": "markdown",
      "id": "6cf79fb8-fcaf-4853-bf2c-5147c7ab3f05",
      "metadata": {
        "id": "6cf79fb8-fcaf-4853-bf2c-5147c7ab3f05"
      },
      "source": [
        "## Preprocess data"
      ]
    },
    {
      "cell_type": "code",
      "source": [
        "from google.colab import files\n",
        "\n",
        "\n",
        "uploaded = files.upload()\n"
      ],
      "metadata": {
        "colab": {
          "base_uri": "https://localhost:8080/",
          "height": 38
        },
        "id": "LeN4LlsaR8Pu",
        "outputId": "f4bfc8d3-36a9-46eb-eb5d-adb13c17317c"
      },
      "id": "LeN4LlsaR8Pu",
      "execution_count": null,
      "outputs": [
        {
          "data": {
            "text/html": [
              "\n",
              "     <input type=\"file\" id=\"files-43805e2a-e1b3-4f44-ace3-b47a4d3c518b\" name=\"files[]\" multiple disabled\n",
              "        style=\"border:none\" />\n",
              "     <output id=\"result-43805e2a-e1b3-4f44-ace3-b47a4d3c518b\">\n",
              "      Upload widget is only available when the cell has been executed in the\n",
              "      current browser session. Please rerun this cell to enable.\n",
              "      </output>\n",
              "      <script>// Copyright 2017 Google LLC\n",
              "//\n",
              "// Licensed under the Apache License, Version 2.0 (the \"License\");\n",
              "// you may not use this file except in compliance with the License.\n",
              "// You may obtain a copy of the License at\n",
              "//\n",
              "//      http://www.apache.org/licenses/LICENSE-2.0\n",
              "//\n",
              "// Unless required by applicable law or agreed to in writing, software\n",
              "// distributed under the License is distributed on an \"AS IS\" BASIS,\n",
              "// WITHOUT WARRANTIES OR CONDITIONS OF ANY KIND, either express or implied.\n",
              "// See the License for the specific language governing permissions and\n",
              "// limitations under the License.\n",
              "\n",
              "/**\n",
              " * @fileoverview Helpers for google.colab Python module.\n",
              " */\n",
              "(function(scope) {\n",
              "function span(text, styleAttributes = {}) {\n",
              "  const element = document.createElement('span');\n",
              "  element.textContent = text;\n",
              "  for (const key of Object.keys(styleAttributes)) {\n",
              "    element.style[key] = styleAttributes[key];\n",
              "  }\n",
              "  return element;\n",
              "}\n",
              "\n",
              "// Max number of bytes which will be uploaded at a time.\n",
              "const MAX_PAYLOAD_SIZE = 100 * 1024;\n",
              "\n",
              "function _uploadFiles(inputId, outputId) {\n",
              "  const steps = uploadFilesStep(inputId, outputId);\n",
              "  const outputElement = document.getElementById(outputId);\n",
              "  // Cache steps on the outputElement to make it available for the next call\n",
              "  // to uploadFilesContinue from Python.\n",
              "  outputElement.steps = steps;\n",
              "\n",
              "  return _uploadFilesContinue(outputId);\n",
              "}\n",
              "\n",
              "// This is roughly an async generator (not supported in the browser yet),\n",
              "// where there are multiple asynchronous steps and the Python side is going\n",
              "// to poll for completion of each step.\n",
              "// This uses a Promise to block the python side on completion of each step,\n",
              "// then passes the result of the previous step as the input to the next step.\n",
              "function _uploadFilesContinue(outputId) {\n",
              "  const outputElement = document.getElementById(outputId);\n",
              "  const steps = outputElement.steps;\n",
              "\n",
              "  const next = steps.next(outputElement.lastPromiseValue);\n",
              "  return Promise.resolve(next.value.promise).then((value) => {\n",
              "    // Cache the last promise value to make it available to the next\n",
              "    // step of the generator.\n",
              "    outputElement.lastPromiseValue = value;\n",
              "    return next.value.response;\n",
              "  });\n",
              "}\n",
              "\n",
              "/**\n",
              " * Generator function which is called between each async step of the upload\n",
              " * process.\n",
              " * @param {string} inputId Element ID of the input file picker element.\n",
              " * @param {string} outputId Element ID of the output display.\n",
              " * @return {!Iterable<!Object>} Iterable of next steps.\n",
              " */\n",
              "function* uploadFilesStep(inputId, outputId) {\n",
              "  const inputElement = document.getElementById(inputId);\n",
              "  inputElement.disabled = false;\n",
              "\n",
              "  const outputElement = document.getElementById(outputId);\n",
              "  outputElement.innerHTML = '';\n",
              "\n",
              "  const pickedPromise = new Promise((resolve) => {\n",
              "    inputElement.addEventListener('change', (e) => {\n",
              "      resolve(e.target.files);\n",
              "    });\n",
              "  });\n",
              "\n",
              "  const cancel = document.createElement('button');\n",
              "  inputElement.parentElement.appendChild(cancel);\n",
              "  cancel.textContent = 'Cancel upload';\n",
              "  const cancelPromise = new Promise((resolve) => {\n",
              "    cancel.onclick = () => {\n",
              "      resolve(null);\n",
              "    };\n",
              "  });\n",
              "\n",
              "  // Wait for the user to pick the files.\n",
              "  const files = yield {\n",
              "    promise: Promise.race([pickedPromise, cancelPromise]),\n",
              "    response: {\n",
              "      action: 'starting',\n",
              "    }\n",
              "  };\n",
              "\n",
              "  cancel.remove();\n",
              "\n",
              "  // Disable the input element since further picks are not allowed.\n",
              "  inputElement.disabled = true;\n",
              "\n",
              "  if (!files) {\n",
              "    return {\n",
              "      response: {\n",
              "        action: 'complete',\n",
              "      }\n",
              "    };\n",
              "  }\n",
              "\n",
              "  for (const file of files) {\n",
              "    const li = document.createElement('li');\n",
              "    li.append(span(file.name, {fontWeight: 'bold'}));\n",
              "    li.append(span(\n",
              "        `(${file.type || 'n/a'}) - ${file.size} bytes, ` +\n",
              "        `last modified: ${\n",
              "            file.lastModifiedDate ? file.lastModifiedDate.toLocaleDateString() :\n",
              "                                    'n/a'} - `));\n",
              "    const percent = span('0% done');\n",
              "    li.appendChild(percent);\n",
              "\n",
              "    outputElement.appendChild(li);\n",
              "\n",
              "    const fileDataPromise = new Promise((resolve) => {\n",
              "      const reader = new FileReader();\n",
              "      reader.onload = (e) => {\n",
              "        resolve(e.target.result);\n",
              "      };\n",
              "      reader.readAsArrayBuffer(file);\n",
              "    });\n",
              "    // Wait for the data to be ready.\n",
              "    let fileData = yield {\n",
              "      promise: fileDataPromise,\n",
              "      response: {\n",
              "        action: 'continue',\n",
              "      }\n",
              "    };\n",
              "\n",
              "    // Use a chunked sending to avoid message size limits. See b/62115660.\n",
              "    let position = 0;\n",
              "    do {\n",
              "      const length = Math.min(fileData.byteLength - position, MAX_PAYLOAD_SIZE);\n",
              "      const chunk = new Uint8Array(fileData, position, length);\n",
              "      position += length;\n",
              "\n",
              "      const base64 = btoa(String.fromCharCode.apply(null, chunk));\n",
              "      yield {\n",
              "        response: {\n",
              "          action: 'append',\n",
              "          file: file.name,\n",
              "          data: base64,\n",
              "        },\n",
              "      };\n",
              "\n",
              "      let percentDone = fileData.byteLength === 0 ?\n",
              "          100 :\n",
              "          Math.round((position / fileData.byteLength) * 100);\n",
              "      percent.textContent = `${percentDone}% done`;\n",
              "\n",
              "    } while (position < fileData.byteLength);\n",
              "  }\n",
              "\n",
              "  // All done.\n",
              "  yield {\n",
              "    response: {\n",
              "      action: 'complete',\n",
              "    }\n",
              "  };\n",
              "}\n",
              "\n",
              "scope.google = scope.google || {};\n",
              "scope.google.colab = scope.google.colab || {};\n",
              "scope.google.colab._files = {\n",
              "  _uploadFiles,\n",
              "  _uploadFilesContinue,\n",
              "};\n",
              "})(self);\n",
              "</script> "
            ],
            "text/plain": [
              "<IPython.core.display.HTML object>"
            ]
          },
          "metadata": {},
          "output_type": "display_data"
        }
      ]
    },
    {
      "cell_type": "code",
      "source": [
        "import pandas as pd\n",
        "import io\n",
        "\n",
        "df_data = pd.read_csv(io.BytesIO(uploaded['event_data_50k_used_for_first_training.csv']))\n",
        "\n"
      ],
      "metadata": {
        "id": "onZc_b4-SeSf"
      },
      "id": "onZc_b4-SeSf",
      "execution_count": null,
      "outputs": []
    },
    {
      "cell_type": "code",
      "execution_count": null,
      "id": "2f026a68-5880-4256-96cf-b5214d66a0a6",
      "metadata": {
        "tags": [],
        "id": "2f026a68-5880-4256-96cf-b5214d66a0a6"
      },
      "outputs": [],
      "source": [
        "df_data = df_data.sample(frac=1)"
      ]
    },
    {
      "cell_type": "code",
      "execution_count": null,
      "id": "e5d0bf00-4d29-4d2d-bbc6-687196e1babb",
      "metadata": {
        "tags": [],
        "colab": {
          "base_uri": "https://localhost:8080/",
          "height": 236
        },
        "id": "e5d0bf00-4d29-4d2d-bbc6-687196e1babb",
        "outputId": "03f5ede6-9921-4d38-fc9f-2a90bc21dfa9"
      },
      "outputs": [
        {
          "output_type": "execute_result",
          "data": {
            "text/plain": [
              "       NE_1  NE_2  NE_3  NE_4  HE_1  HE_2  HE_3  HE_4  HE_5   CPU  ...  DISK  \\\n",
              "24226     0     0     0     0     1     0     0     0     0  0.08  ...  0.64   \n",
              "18375     1     0     0     0     0     0     0     0     0  0.22  ...  0.19   \n",
              "45872     0     0     0     0     0     0     0     0     0  0.12  ...  0.30   \n",
              "20958     0     0     0     0     0     0     0     0     0  0.05  ...  0.94   \n",
              "13388     0     0     0     0     0     0     0     0     0  0.06  ...  0.95   \n",
              "\n",
              "       LOAD  NIC_U  NIC_S  SQ_1  SQ_2  SQ_3  HTTP_1  HTTP_2  \\\n",
              "24226  0.85   0.16      0  3.06  0.48  0.52    0.17    0.87   \n",
              "18375  0.86   0.24      0  0.77  0.72  0.55    0.73    0.13   \n",
              "45872  0.36   0.38      1  0.66  0.77  0.37    0.47    0.45   \n",
              "20958  0.57   0.22      0  0.06  0.91  0.34    0.70    0.57   \n",
              "13388  0.52   0.21      0  0.38  0.45  0.46    0.69    0.18   \n",
              "\n",
              "                  ROOT_CAUSE  \n",
              "24226  HARDWARE_ERROR_1_1005  \n",
              "18375     NETWORK_ERROR_1001  \n",
              "45872         NIC_ERROR_1015  \n",
              "20958  DISK_USAGE_ERROR_1012  \n",
              "13388  DISK_USAGE_ERROR_1012  \n",
              "\n",
              "[5 rows x 21 columns]"
            ],
            "text/html": [
              "\n",
              "  <div id=\"df-2a218ce9-1156-46b4-b9ed-0b7ed0f45266\" class=\"colab-df-container\">\n",
              "    <div>\n",
              "<style scoped>\n",
              "    .dataframe tbody tr th:only-of-type {\n",
              "        vertical-align: middle;\n",
              "    }\n",
              "\n",
              "    .dataframe tbody tr th {\n",
              "        vertical-align: top;\n",
              "    }\n",
              "\n",
              "    .dataframe thead th {\n",
              "        text-align: right;\n",
              "    }\n",
              "</style>\n",
              "<table border=\"1\" class=\"dataframe\">\n",
              "  <thead>\n",
              "    <tr style=\"text-align: right;\">\n",
              "      <th></th>\n",
              "      <th>NE_1</th>\n",
              "      <th>NE_2</th>\n",
              "      <th>NE_3</th>\n",
              "      <th>NE_4</th>\n",
              "      <th>HE_1</th>\n",
              "      <th>HE_2</th>\n",
              "      <th>HE_3</th>\n",
              "      <th>HE_4</th>\n",
              "      <th>HE_5</th>\n",
              "      <th>CPU</th>\n",
              "      <th>...</th>\n",
              "      <th>DISK</th>\n",
              "      <th>LOAD</th>\n",
              "      <th>NIC_U</th>\n",
              "      <th>NIC_S</th>\n",
              "      <th>SQ_1</th>\n",
              "      <th>SQ_2</th>\n",
              "      <th>SQ_3</th>\n",
              "      <th>HTTP_1</th>\n",
              "      <th>HTTP_2</th>\n",
              "      <th>ROOT_CAUSE</th>\n",
              "    </tr>\n",
              "  </thead>\n",
              "  <tbody>\n",
              "    <tr>\n",
              "      <th>24226</th>\n",
              "      <td>0</td>\n",
              "      <td>0</td>\n",
              "      <td>0</td>\n",
              "      <td>0</td>\n",
              "      <td>1</td>\n",
              "      <td>0</td>\n",
              "      <td>0</td>\n",
              "      <td>0</td>\n",
              "      <td>0</td>\n",
              "      <td>0.08</td>\n",
              "      <td>...</td>\n",
              "      <td>0.64</td>\n",
              "      <td>0.85</td>\n",
              "      <td>0.16</td>\n",
              "      <td>0</td>\n",
              "      <td>3.06</td>\n",
              "      <td>0.48</td>\n",
              "      <td>0.52</td>\n",
              "      <td>0.17</td>\n",
              "      <td>0.87</td>\n",
              "      <td>HARDWARE_ERROR_1_1005</td>\n",
              "    </tr>\n",
              "    <tr>\n",
              "      <th>18375</th>\n",
              "      <td>1</td>\n",
              "      <td>0</td>\n",
              "      <td>0</td>\n",
              "      <td>0</td>\n",
              "      <td>0</td>\n",
              "      <td>0</td>\n",
              "      <td>0</td>\n",
              "      <td>0</td>\n",
              "      <td>0</td>\n",
              "      <td>0.22</td>\n",
              "      <td>...</td>\n",
              "      <td>0.19</td>\n",
              "      <td>0.86</td>\n",
              "      <td>0.24</td>\n",
              "      <td>0</td>\n",
              "      <td>0.77</td>\n",
              "      <td>0.72</td>\n",
              "      <td>0.55</td>\n",
              "      <td>0.73</td>\n",
              "      <td>0.13</td>\n",
              "      <td>NETWORK_ERROR_1001</td>\n",
              "    </tr>\n",
              "    <tr>\n",
              "      <th>45872</th>\n",
              "      <td>0</td>\n",
              "      <td>0</td>\n",
              "      <td>0</td>\n",
              "      <td>0</td>\n",
              "      <td>0</td>\n",
              "      <td>0</td>\n",
              "      <td>0</td>\n",
              "      <td>0</td>\n",
              "      <td>0</td>\n",
              "      <td>0.12</td>\n",
              "      <td>...</td>\n",
              "      <td>0.30</td>\n",
              "      <td>0.36</td>\n",
              "      <td>0.38</td>\n",
              "      <td>1</td>\n",
              "      <td>0.66</td>\n",
              "      <td>0.77</td>\n",
              "      <td>0.37</td>\n",
              "      <td>0.47</td>\n",
              "      <td>0.45</td>\n",
              "      <td>NIC_ERROR_1015</td>\n",
              "    </tr>\n",
              "    <tr>\n",
              "      <th>20958</th>\n",
              "      <td>0</td>\n",
              "      <td>0</td>\n",
              "      <td>0</td>\n",
              "      <td>0</td>\n",
              "      <td>0</td>\n",
              "      <td>0</td>\n",
              "      <td>0</td>\n",
              "      <td>0</td>\n",
              "      <td>0</td>\n",
              "      <td>0.05</td>\n",
              "      <td>...</td>\n",
              "      <td>0.94</td>\n",
              "      <td>0.57</td>\n",
              "      <td>0.22</td>\n",
              "      <td>0</td>\n",
              "      <td>0.06</td>\n",
              "      <td>0.91</td>\n",
              "      <td>0.34</td>\n",
              "      <td>0.70</td>\n",
              "      <td>0.57</td>\n",
              "      <td>DISK_USAGE_ERROR_1012</td>\n",
              "    </tr>\n",
              "    <tr>\n",
              "      <th>13388</th>\n",
              "      <td>0</td>\n",
              "      <td>0</td>\n",
              "      <td>0</td>\n",
              "      <td>0</td>\n",
              "      <td>0</td>\n",
              "      <td>0</td>\n",
              "      <td>0</td>\n",
              "      <td>0</td>\n",
              "      <td>0</td>\n",
              "      <td>0.06</td>\n",
              "      <td>...</td>\n",
              "      <td>0.95</td>\n",
              "      <td>0.52</td>\n",
              "      <td>0.21</td>\n",
              "      <td>0</td>\n",
              "      <td>0.38</td>\n",
              "      <td>0.45</td>\n",
              "      <td>0.46</td>\n",
              "      <td>0.69</td>\n",
              "      <td>0.18</td>\n",
              "      <td>DISK_USAGE_ERROR_1012</td>\n",
              "    </tr>\n",
              "  </tbody>\n",
              "</table>\n",
              "<p>5 rows × 21 columns</p>\n",
              "</div>\n",
              "    <div class=\"colab-df-buttons\">\n",
              "\n",
              "  <div class=\"colab-df-container\">\n",
              "    <button class=\"colab-df-convert\" onclick=\"convertToInteractive('df-2a218ce9-1156-46b4-b9ed-0b7ed0f45266')\"\n",
              "            title=\"Convert this dataframe to an interactive table.\"\n",
              "            style=\"display:none;\">\n",
              "\n",
              "  <svg xmlns=\"http://www.w3.org/2000/svg\" height=\"24px\" viewBox=\"0 -960 960 960\">\n",
              "    <path d=\"M120-120v-720h720v720H120Zm60-500h600v-160H180v160Zm220 220h160v-160H400v160Zm0 220h160v-160H400v160ZM180-400h160v-160H180v160Zm440 0h160v-160H620v160ZM180-180h160v-160H180v160Zm440 0h160v-160H620v160Z\"/>\n",
              "  </svg>\n",
              "    </button>\n",
              "\n",
              "  <style>\n",
              "    .colab-df-container {\n",
              "      display:flex;\n",
              "      gap: 12px;\n",
              "    }\n",
              "\n",
              "    .colab-df-convert {\n",
              "      background-color: #E8F0FE;\n",
              "      border: none;\n",
              "      border-radius: 50%;\n",
              "      cursor: pointer;\n",
              "      display: none;\n",
              "      fill: #1967D2;\n",
              "      height: 32px;\n",
              "      padding: 0 0 0 0;\n",
              "      width: 32px;\n",
              "    }\n",
              "\n",
              "    .colab-df-convert:hover {\n",
              "      background-color: #E2EBFA;\n",
              "      box-shadow: 0px 1px 2px rgba(60, 64, 67, 0.3), 0px 1px 3px 1px rgba(60, 64, 67, 0.15);\n",
              "      fill: #174EA6;\n",
              "    }\n",
              "\n",
              "    .colab-df-buttons div {\n",
              "      margin-bottom: 4px;\n",
              "    }\n",
              "\n",
              "    [theme=dark] .colab-df-convert {\n",
              "      background-color: #3B4455;\n",
              "      fill: #D2E3FC;\n",
              "    }\n",
              "\n",
              "    [theme=dark] .colab-df-convert:hover {\n",
              "      background-color: #434B5C;\n",
              "      box-shadow: 0px 1px 3px 1px rgba(0, 0, 0, 0.15);\n",
              "      filter: drop-shadow(0px 1px 2px rgba(0, 0, 0, 0.3));\n",
              "      fill: #FFFFFF;\n",
              "    }\n",
              "  </style>\n",
              "\n",
              "    <script>\n",
              "      const buttonEl =\n",
              "        document.querySelector('#df-2a218ce9-1156-46b4-b9ed-0b7ed0f45266 button.colab-df-convert');\n",
              "      buttonEl.style.display =\n",
              "        google.colab.kernel.accessAllowed ? 'block' : 'none';\n",
              "\n",
              "      async function convertToInteractive(key) {\n",
              "        const element = document.querySelector('#df-2a218ce9-1156-46b4-b9ed-0b7ed0f45266');\n",
              "        const dataTable =\n",
              "          await google.colab.kernel.invokeFunction('convertToInteractive',\n",
              "                                                    [key], {});\n",
              "        if (!dataTable) return;\n",
              "\n",
              "        const docLinkHtml = 'Like what you see? Visit the ' +\n",
              "          '<a target=\"_blank\" href=https://colab.research.google.com/notebooks/data_table.ipynb>data table notebook</a>'\n",
              "          + ' to learn more about interactive tables.';\n",
              "        element.innerHTML = '';\n",
              "        dataTable['output_type'] = 'display_data';\n",
              "        await google.colab.output.renderOutput(dataTable, element);\n",
              "        const docLink = document.createElement('div');\n",
              "        docLink.innerHTML = docLinkHtml;\n",
              "        element.appendChild(docLink);\n",
              "      }\n",
              "    </script>\n",
              "  </div>\n",
              "\n",
              "\n",
              "<div id=\"df-02c37d90-358b-44b7-92a0-f4977e5ce0ed\">\n",
              "  <button class=\"colab-df-quickchart\" onclick=\"quickchart('df-02c37d90-358b-44b7-92a0-f4977e5ce0ed')\"\n",
              "            title=\"Suggest charts\"\n",
              "            style=\"display:none;\">\n",
              "\n",
              "<svg xmlns=\"http://www.w3.org/2000/svg\" height=\"24px\"viewBox=\"0 0 24 24\"\n",
              "     width=\"24px\">\n",
              "    <g>\n",
              "        <path d=\"M19 3H5c-1.1 0-2 .9-2 2v14c0 1.1.9 2 2 2h14c1.1 0 2-.9 2-2V5c0-1.1-.9-2-2-2zM9 17H7v-7h2v7zm4 0h-2V7h2v10zm4 0h-2v-4h2v4z\"/>\n",
              "    </g>\n",
              "</svg>\n",
              "  </button>\n",
              "\n",
              "<style>\n",
              "  .colab-df-quickchart {\n",
              "      --bg-color: #E8F0FE;\n",
              "      --fill-color: #1967D2;\n",
              "      --hover-bg-color: #E2EBFA;\n",
              "      --hover-fill-color: #174EA6;\n",
              "      --disabled-fill-color: #AAA;\n",
              "      --disabled-bg-color: #DDD;\n",
              "  }\n",
              "\n",
              "  [theme=dark] .colab-df-quickchart {\n",
              "      --bg-color: #3B4455;\n",
              "      --fill-color: #D2E3FC;\n",
              "      --hover-bg-color: #434B5C;\n",
              "      --hover-fill-color: #FFFFFF;\n",
              "      --disabled-bg-color: #3B4455;\n",
              "      --disabled-fill-color: #666;\n",
              "  }\n",
              "\n",
              "  .colab-df-quickchart {\n",
              "    background-color: var(--bg-color);\n",
              "    border: none;\n",
              "    border-radius: 50%;\n",
              "    cursor: pointer;\n",
              "    display: none;\n",
              "    fill: var(--fill-color);\n",
              "    height: 32px;\n",
              "    padding: 0;\n",
              "    width: 32px;\n",
              "  }\n",
              "\n",
              "  .colab-df-quickchart:hover {\n",
              "    background-color: var(--hover-bg-color);\n",
              "    box-shadow: 0 1px 2px rgba(60, 64, 67, 0.3), 0 1px 3px 1px rgba(60, 64, 67, 0.15);\n",
              "    fill: var(--button-hover-fill-color);\n",
              "  }\n",
              "\n",
              "  .colab-df-quickchart-complete:disabled,\n",
              "  .colab-df-quickchart-complete:disabled:hover {\n",
              "    background-color: var(--disabled-bg-color);\n",
              "    fill: var(--disabled-fill-color);\n",
              "    box-shadow: none;\n",
              "  }\n",
              "\n",
              "  .colab-df-spinner {\n",
              "    border: 2px solid var(--fill-color);\n",
              "    border-color: transparent;\n",
              "    border-bottom-color: var(--fill-color);\n",
              "    animation:\n",
              "      spin 1s steps(1) infinite;\n",
              "  }\n",
              "\n",
              "  @keyframes spin {\n",
              "    0% {\n",
              "      border-color: transparent;\n",
              "      border-bottom-color: var(--fill-color);\n",
              "      border-left-color: var(--fill-color);\n",
              "    }\n",
              "    20% {\n",
              "      border-color: transparent;\n",
              "      border-left-color: var(--fill-color);\n",
              "      border-top-color: var(--fill-color);\n",
              "    }\n",
              "    30% {\n",
              "      border-color: transparent;\n",
              "      border-left-color: var(--fill-color);\n",
              "      border-top-color: var(--fill-color);\n",
              "      border-right-color: var(--fill-color);\n",
              "    }\n",
              "    40% {\n",
              "      border-color: transparent;\n",
              "      border-right-color: var(--fill-color);\n",
              "      border-top-color: var(--fill-color);\n",
              "    }\n",
              "    60% {\n",
              "      border-color: transparent;\n",
              "      border-right-color: var(--fill-color);\n",
              "    }\n",
              "    80% {\n",
              "      border-color: transparent;\n",
              "      border-right-color: var(--fill-color);\n",
              "      border-bottom-color: var(--fill-color);\n",
              "    }\n",
              "    90% {\n",
              "      border-color: transparent;\n",
              "      border-bottom-color: var(--fill-color);\n",
              "    }\n",
              "  }\n",
              "</style>\n",
              "\n",
              "  <script>\n",
              "    async function quickchart(key) {\n",
              "      const quickchartButtonEl =\n",
              "        document.querySelector('#' + key + ' button');\n",
              "      quickchartButtonEl.disabled = true;  // To prevent multiple clicks.\n",
              "      quickchartButtonEl.classList.add('colab-df-spinner');\n",
              "      try {\n",
              "        const charts = await google.colab.kernel.invokeFunction(\n",
              "            'suggestCharts', [key], {});\n",
              "      } catch (error) {\n",
              "        console.error('Error during call to suggestCharts:', error);\n",
              "      }\n",
              "      quickchartButtonEl.classList.remove('colab-df-spinner');\n",
              "      quickchartButtonEl.classList.add('colab-df-quickchart-complete');\n",
              "    }\n",
              "    (() => {\n",
              "      let quickchartButtonEl =\n",
              "        document.querySelector('#df-02c37d90-358b-44b7-92a0-f4977e5ce0ed button');\n",
              "      quickchartButtonEl.style.display =\n",
              "        google.colab.kernel.accessAllowed ? 'block' : 'none';\n",
              "    })();\n",
              "  </script>\n",
              "</div>\n",
              "\n",
              "    </div>\n",
              "  </div>\n"
            ],
            "application/vnd.google.colaboratory.intrinsic+json": {
              "type": "dataframe",
              "variable_name": "df_data"
            }
          },
          "metadata": {},
          "execution_count": 6
        }
      ],
      "source": [
        "df_data.head()"
      ]
    },
    {
      "cell_type": "code",
      "execution_count": null,
      "id": "6569400d-008c-4fae-9995-630148df5b1f",
      "metadata": {
        "tags": [],
        "id": "6569400d-008c-4fae-9995-630148df5b1f"
      },
      "outputs": [],
      "source": [
        "label_encoder = preprocessing.LabelEncoder() #Encode target labels with value between 0 and n_labels-1.\n",
        "df_data[\"ROOT_CAUSE\"] = label_encoder.fit_transform(df_data[\"ROOT_CAUSE\"])\n",
        "# To print 5 rows in the data\n",
        "#df_data.head()\n",
        "# To pring columns in the csv\n",
        "#df_data.columns\n",
        "#df_data.drop(\"ID\", axis=1, inplace=True)\n",
        "# Transforms the final column ROOT_CAUSE = classes will print the root causes available in the data\n",
        "classes = label_encoder.classes_"
      ]
    },
    {
      "cell_type": "code",
      "execution_count": null,
      "id": "61864a71-f3db-4916-9574-e994efc1136e",
      "metadata": {
        "tags": [],
        "colab": {
          "base_uri": "https://localhost:8080/"
        },
        "id": "61864a71-f3db-4916-9574-e994efc1136e",
        "outputId": "53cd7f1c-10cb-4f21-f490-6ddaebca0ccb"
      },
      "outputs": [
        {
          "output_type": "execute_result",
          "data": {
            "text/plain": [
              "array(['DISK_USAGE_ERROR_1012', 'HARDWARE_ERROR_1_1005',\n",
              "       'NETWORK_ERROR_1001', 'NIC_ERROR_1015', 'SLOW_QUERY_ERROR_1_1016'],\n",
              "      dtype=object)"
            ]
          },
          "metadata": {},
          "execution_count": 8
        }
      ],
      "source": [
        "classes"
      ]
    },
    {
      "cell_type": "markdown",
      "id": "bcf55657-e7cd-4661-b736-3b2d566eafce",
      "metadata": {
        "tags": [],
        "id": "bcf55657-e7cd-4661-b736-3b2d566eafce"
      },
      "source": [
        "### Dataset and Dataloader class"
      ]
    },
    {
      "cell_type": "code",
      "execution_count": null,
      "id": "86fe393f-d6b0-465c-9225-41b18628f253",
      "metadata": {
        "tags": [],
        "id": "86fe393f-d6b0-465c-9225-41b18628f253"
      },
      "outputs": [],
      "source": [
        "class SampleDataset(Dataset):\n",
        "    def __init__(self, data_frame, is_train=True):\n",
        "        self.df = data_frame\n",
        "        self.train = self.df.iloc[:35000, :]\n",
        "        self.test = self.df.iloc[35000:, :]\n",
        "        if is_train:\n",
        "            self.data = self.train\n",
        "            self.feat = self.data.loc[:, :\"HTTP_2\"]\n",
        "            self.labels = self.data.loc[:, \"ROOT_CAUSE\"]\n",
        "        else:\n",
        "            self.data = self.test\n",
        "            self.feat = self.data.loc[:, :\"HTTP_2\"]\n",
        "            self.labels = self.data.loc[:, \"ROOT_CAUSE\"]\n",
        "\n",
        "    def __len__(self):\n",
        "        return len(self.data)\n",
        "\n",
        "    def __getitem__(self, idx):\n",
        "        inp = self.feat.iloc[idx].to_numpy()\n",
        "        gt = self.labels.iloc[idx]\n",
        "        return inp, gt"
      ]
    },
    {
      "cell_type": "markdown",
      "id": "4530913e-8c5b-460c-bf12-57dadbdf4a12",
      "metadata": {
        "tags": [],
        "id": "4530913e-8c5b-460c-bf12-57dadbdf4a12"
      },
      "source": [
        "### Create Model"
      ]
    },
    {
      "cell_type": "code",
      "execution_count": null,
      "id": "d1f313cb-24a7-4307-b3cf-d9cd2e94663f",
      "metadata": {
        "tags": [],
        "id": "d1f313cb-24a7-4307-b3cf-d9cd2e94663f"
      },
      "outputs": [],
      "source": [
        "class SampleModel(nn.Module):\n",
        "    def __init__(self, in_feat, hidden_feat, num_labels):\n",
        "        super(SampleModel, self).__init__()\n",
        "        self.in_feat = in_feat\n",
        "        self.hidden_feat = hidden_feat\n",
        "        self.num_labels = num_labels\n",
        "        self.linear_1 = nn.Linear(in_feat, hidden_feat)\n",
        "        self.linear_2 = nn.Linear(hidden_feat, num_labels)\n",
        "        self.relu = nn.ReLU()\n",
        "    def forward(self, x):\n",
        "        out = self.linear_1(x)\n",
        "        out = self.relu(out)\n",
        "        out = self.linear_2(out)\n",
        "        return out"
      ]
    },
    {
      "cell_type": "markdown",
      "id": "025de811-c6e8-4147-8494-9067972dc0d3",
      "metadata": {
        "id": "025de811-c6e8-4147-8494-9067972dc0d3"
      },
      "source": [
        "### Instantiate train dataset, train dataloader, test dataset and test dataloader"
      ]
    },
    {
      "cell_type": "code",
      "execution_count": null,
      "id": "755c7bc3-1712-4328-ac08-7e8f3ad18ad5",
      "metadata": {
        "tags": [],
        "id": "755c7bc3-1712-4328-ac08-7e8f3ad18ad5"
      },
      "outputs": [],
      "source": [
        "train_dataset = SampleDataset(df_data, is_train=True)\n",
        "train_dataloader = DataLoader(dataset=train_dataset, batch_size=64, drop_last=False)\n",
        "test_dataset = SampleDataset(df_data, is_train=False)\n",
        "test_dataloader = DataLoader(dataset=test_dataset, batch_size=64, drop_last=False)"
      ]
    },
    {
      "cell_type": "code",
      "execution_count": null,
      "id": "d21e7451-16c7-43c2-afef-9ec0127698f5",
      "metadata": {
        "tags": [],
        "id": "d21e7451-16c7-43c2-afef-9ec0127698f5"
      },
      "outputs": [],
      "source": [
        "sample_iter = iter(train_dataloader)\n",
        "x,y = next(sample_iter)"
      ]
    },
    {
      "cell_type": "code",
      "execution_count": null,
      "id": "5a5bc0bd-9a0f-465a-859b-12f0cdaeeea2",
      "metadata": {
        "tags": [],
        "colab": {
          "base_uri": "https://localhost:8080/"
        },
        "id": "5a5bc0bd-9a0f-465a-859b-12f0cdaeeea2",
        "outputId": "7c633cec-c35c-4e9f-81f4-1a9ebf1b92c4"
      },
      "outputs": [
        {
          "output_type": "execute_result",
          "data": {
            "text/plain": [
              "torch.Size([64])"
            ]
          },
          "metadata": {},
          "execution_count": 13
        }
      ],
      "source": [
        "y.shape"
      ]
    },
    {
      "cell_type": "code",
      "execution_count": null,
      "id": "6b0557d4-2d0a-4f86-b77a-553a6e63698d",
      "metadata": {
        "tags": [],
        "id": "6b0557d4-2d0a-4f86-b77a-553a6e63698d"
      },
      "outputs": [],
      "source": [
        "input_feat = 20\n",
        "num_labels = 5\n",
        "hidden_feat = 64\n",
        "model = SampleModel(input_feat, hidden_feat, num_labels)"
      ]
    },
    {
      "cell_type": "code",
      "execution_count": null,
      "id": "12819d9f-bd62-40b7-b9cf-b919c6acecc4",
      "metadata": {
        "tags": [],
        "id": "12819d9f-bd62-40b7-b9cf-b919c6acecc4"
      },
      "outputs": [],
      "source": [
        "optimizer = optim.SGD(model.parameters(), lr=0.001, momentum=0.9)\n",
        "criterion = nn.CrossEntropyLoss()"
      ]
    },
    {
      "cell_type": "code",
      "execution_count": null,
      "id": "2eef0646-c8c9-4f39-9a5e-8a33de62caf6",
      "metadata": {
        "tags": [],
        "colab": {
          "base_uri": "https://localhost:8080/"
        },
        "id": "2eef0646-c8c9-4f39-9a5e-8a33de62caf6",
        "outputId": "1edbefd1-96bc-419e-f6b8-b6e963b7ea18"
      },
      "outputs": [
        {
          "output_type": "stream",
          "name": "stdout",
          "text": [
            "Epoch0: Loss: 1.0847927040984033\n",
            "Epoch1: Loss: 0.5263194895095755\n",
            "Epoch2: Loss: 0.23383336376664407\n",
            "Epoch3: Loss: 0.12426989178226025\n",
            "Epoch4: Loss: 0.07967885559802736\n",
            "Epoch5: Loss: 0.057596490229777926\n",
            "Epoch6: Loss: 0.04487185195851152\n",
            "Epoch7: Loss: 0.03672415978348451\n",
            "Epoch8: Loss: 0.031103614782420765\n",
            "Epoch9: Loss: 0.027008216283275616\n",
            "Epoch10: Loss: 0.023897749232213394\n",
            "Epoch11: Loss: 0.021457594827879935\n",
            "Epoch12: Loss: 0.019493021326347285\n",
            "Epoch13: Loss: 0.01787768937885707\n",
            "Epoch14: Loss: 0.016526106916967324\n",
            "Epoch15: Loss: 0.015378319445513938\n",
            "Epoch16: Loss: 0.014391173046742867\n",
            "Epoch17: Loss: 0.013532913936101159\n",
            "Epoch18: Loss: 0.012779614797042482\n",
            "Epoch19: Loss: 0.01211295144247671\n",
            "Epoch20: Loss: 0.011518627683541838\n",
            "Epoch21: Loss: 0.010985319079555422\n",
            "Epoch22: Loss: 0.010503937063782972\n",
            "Epoch23: Loss: 0.010067153689272742\n",
            "Epoch24: Loss: 0.009668927957257852\n",
            "Epoch25: Loss: 0.009304258416081613\n",
            "Epoch26: Loss: 0.008968985633979087\n",
            "Epoch27: Loss: 0.008659645240801562\n",
            "Epoch28: Loss: 0.008373290354852484\n",
            "Epoch29: Loss: 0.008107369240386993\n",
            "Epoch30: Loss: 0.007859716196995657\n",
            "Epoch31: Loss: 0.007628468453111144\n",
            "Epoch32: Loss: 0.007412020765735309\n",
            "Epoch33: Loss: 0.0072089593867742385\n",
            "Epoch34: Loss: 0.007018049261609341\n",
            "Epoch35: Loss: 0.0068382177083928415\n",
            "Epoch36: Loss: 0.006668478229433857\n",
            "Epoch37: Loss: 0.006507986635727369\n",
            "Epoch38: Loss: 0.006355998342962326\n",
            "Epoch39: Loss: 0.006211819827609391\n",
            "Epoch40: Loss: 0.00607484731383935\n",
            "Epoch41: Loss: 0.005944536312507087\n",
            "Epoch42: Loss: 0.005820405592680509\n",
            "Epoch43: Loss: 0.005702010048570374\n",
            "Epoch44: Loss: 0.005588957971137296\n",
            "Epoch45: Loss: 0.00548087735277289\n",
            "Epoch46: Loss: 0.005377434601222371\n",
            "Epoch47: Loss: 0.00527832776110558\n",
            "Epoch48: Loss: 0.00518327583690809\n",
            "Epoch49: Loss: 0.005092026086071237\n",
            "Epoch50: Loss: 0.005004350148342291\n",
            "Epoch51: Loss: 0.004920033000790986\n",
            "Epoch52: Loss: 0.004838879019919259\n",
            "Epoch53: Loss: 0.004760706317321597\n",
            "Epoch54: Loss: 0.004685350087423634\n",
            "Epoch55: Loss: 0.00461265663199222\n",
            "Epoch56: Loss: 0.004542478474522762\n",
            "Epoch57: Loss: 0.004474687529642686\n",
            "Epoch58: Loss: 0.004409172587838173\n",
            "Epoch59: Loss: 0.004345799856725569\n",
            "Epoch60: Loss: 0.004284460057646642\n",
            "Epoch61: Loss: 0.004225057972551679\n",
            "Epoch62: Loss: 0.0041675030511771575\n",
            "Epoch63: Loss: 0.004111701523854484\n",
            "Epoch64: Loss: 0.004057569244014137\n",
            "Epoch65: Loss: 0.004005036370763198\n",
            "Epoch66: Loss: 0.0039540280637346634\n",
            "Epoch67: Loss: 0.00390447311548574\n",
            "Epoch68: Loss: 0.003856311373134234\n",
            "Epoch69: Loss: 0.0038094810148236262\n",
            "Epoch70: Loss: 0.0037639273361003253\n",
            "Epoch71: Loss: 0.0037195981509763904\n",
            "Epoch72: Loss: 0.0036764468707636312\n",
            "Epoch73: Loss: 0.0036344218727156954\n",
            "Epoch74: Loss: 0.003593475992026887\n",
            "Epoch75: Loss: 0.003553573705317279\n",
            "Epoch76: Loss: 0.003514662705607869\n",
            "Epoch77: Loss: 0.003476708343591357\n",
            "Epoch78: Loss: 0.0034396712147031438\n",
            "Epoch79: Loss: 0.003403519706862725\n",
            "Epoch80: Loss: 0.0033682226215087396\n",
            "Epoch81: Loss: 0.003333751567136292\n",
            "Epoch82: Loss: 0.003300072513971907\n",
            "Epoch83: Loss: 0.0032671568983351947\n",
            "Epoch84: Loss: 0.0032349798207552643\n",
            "Epoch85: Loss: 0.0032035132779201776\n",
            "Epoch86: Loss: 0.003172735779072027\n",
            "Epoch87: Loss: 0.0031426237769241034\n",
            "Epoch88: Loss: 0.0031131525177907\n",
            "Epoch89: Loss: 0.0030842997877342693\n",
            "Epoch90: Loss: 0.003056052837893707\n",
            "Epoch91: Loss: 0.003028392497304541\n",
            "Epoch92: Loss: 0.0030012975525199495\n",
            "Epoch93: Loss: 0.002974750811955168\n",
            "Epoch94: Loss: 0.00294873209138549\n",
            "Epoch95: Loss: 0.0029232227625504096\n",
            "Epoch96: Loss: 0.0028982079323228802\n",
            "Epoch97: Loss: 0.002873673287949864\n",
            "Epoch98: Loss: 0.002849609269860577\n",
            "Epoch99: Loss: 0.002826004347777151\n"
          ]
        }
      ],
      "source": [
        "epochs = 100\n",
        "for epoch in range(epochs):\n",
        "    running_loss = 0.\n",
        "    for idx, data in enumerate(train_dataloader):\n",
        "        inp, gt = data\n",
        "        inp = inp.type(torch.float)\n",
        "        optimizer.zero_grad()\n",
        "        out = model(inp)\n",
        "        loss = criterion(out, gt)\n",
        "        loss.backward()\n",
        "        optimizer.step()\n",
        "        running_loss += loss.item()\n",
        "    print(f\"Epoch{epoch}: Loss: {running_loss/len(train_dataloader)}\")\n",
        "torch.save(model.state_dict(), \"./event-data-weights.pt\")"
      ]
    },
    {
      "cell_type": "markdown",
      "id": "e2f2b3bc-46f6-4142-a784-948e23b75948",
      "metadata": {
        "id": "e2f2b3bc-46f6-4142-a784-948e23b75948"
      },
      "source": [
        "### Validation"
      ]
    },
    {
      "cell_type": "code",
      "execution_count": null,
      "id": "377453d0-778d-4fa5-9529-2b64ea93a4f1",
      "metadata": {
        "tags": [],
        "colab": {
          "base_uri": "https://localhost:8080/"
        },
        "id": "377453d0-778d-4fa5-9529-2b64ea93a4f1",
        "outputId": "df09abaf-3163-4993-eb0c-e80789ffaf90"
      },
      "outputs": [
        {
          "output_type": "execute_result",
          "data": {
            "text/plain": [
              "<All keys matched successfully>"
            ]
          },
          "metadata": {},
          "execution_count": 17
        }
      ],
      "source": [
        "checkpoint = torch.load(\"event-data-weights.pt\")\n",
        "model.load_state_dict(checkpoint) #Load model weights"
      ]
    },
    {
      "cell_type": "code",
      "execution_count": null,
      "id": "0199169e-9d46-414c-a8eb-2a9aa8eff3ba",
      "metadata": {
        "tags": [],
        "id": "0199169e-9d46-414c-a8eb-2a9aa8eff3ba"
      },
      "outputs": [],
      "source": [
        "correct_pred = {classname: 0 for classname in classes}\n",
        "total_pred = {classname: 0 for classname in classes}"
      ]
    },
    {
      "cell_type": "code",
      "execution_count": null,
      "id": "755bc8c7-ab34-4cbe-996e-16d32d3f6fe8",
      "metadata": {
        "tags": [],
        "id": "755bc8c7-ab34-4cbe-996e-16d32d3f6fe8"
      },
      "outputs": [],
      "source": [
        "with torch.no_grad():\n",
        "    model.eval()\n",
        "    running_loss = 0.\n",
        "    for idx, data in enumerate(test_dataloader):\n",
        "        inp, gt = data\n",
        "        inp = inp.type(torch.float)\n",
        "        out = model(inp)\n",
        "        _, predictions = torch.max(out, 1)\n",
        "        # collect the correct predictions for each class\n",
        "        for label, prediction in zip(gt, predictions):\n",
        "            if label == prediction:\n",
        "                correct_pred\n",
        "                correct_pred[classes[label]] += 1\n",
        "            total_pred[classes[label]] += 1"
      ]
    },
    {
      "cell_type": "code",
      "execution_count": null,
      "id": "6673a10c-65e8-40bb-b436-07577b95badb",
      "metadata": {
        "tags": [],
        "colab": {
          "base_uri": "https://localhost:8080/"
        },
        "id": "6673a10c-65e8-40bb-b436-07577b95badb",
        "outputId": "78e6ac99-1496-485f-99b2-d2a1df670e0e"
      },
      "outputs": [
        {
          "output_type": "execute_result",
          "data": {
            "text/plain": [
              "{'DISK_USAGE_ERROR_1012': 3001,\n",
              " 'HARDWARE_ERROR_1_1005': 2969,\n",
              " 'NETWORK_ERROR_1001': 3016,\n",
              " 'NIC_ERROR_1015': 3002,\n",
              " 'SLOW_QUERY_ERROR_1_1016': 2996}"
            ]
          },
          "metadata": {},
          "execution_count": 20
        }
      ],
      "source": [
        "correct_pred"
      ]
    },
    {
      "cell_type": "code",
      "execution_count": null,
      "id": "65d62d10-4db2-48d6-9706-dd28cfda71c2",
      "metadata": {
        "tags": [],
        "colab": {
          "base_uri": "https://localhost:8080/"
        },
        "id": "65d62d10-4db2-48d6-9706-dd28cfda71c2",
        "outputId": "7401982f-1f24-40f9-ca2a-d7f1ab3e4dde"
      },
      "outputs": [
        {
          "output_type": "execute_result",
          "data": {
            "text/plain": [
              "{'DISK_USAGE_ERROR_1012': 3001,\n",
              " 'HARDWARE_ERROR_1_1005': 2969,\n",
              " 'NETWORK_ERROR_1001': 3016,\n",
              " 'NIC_ERROR_1015': 3002,\n",
              " 'SLOW_QUERY_ERROR_1_1016': 3007}"
            ]
          },
          "metadata": {},
          "execution_count": 21
        }
      ],
      "source": [
        "total_pred"
      ]
    },
    {
      "cell_type": "code",
      "execution_count": null,
      "id": "08a42a2d-5eb2-4dfd-b966-82787902cb37",
      "metadata": {
        "tags": [],
        "colab": {
          "base_uri": "https://localhost:8080/"
        },
        "id": "08a42a2d-5eb2-4dfd-b966-82787902cb37",
        "outputId": "8db96e8c-a896-4560-9cd3-1d2e929c9246"
      },
      "outputs": [
        {
          "output_type": "stream",
          "name": "stdout",
          "text": [
            "Accuracy for class: DISK_USAGE_ERROR_1012 is 100.0 %\n",
            "Accuracy for class: HARDWARE_ERROR_1_1005 is 100.0 %\n",
            "Accuracy for class: NETWORK_ERROR_1001 is 100.0 %\n",
            "Accuracy for class: NIC_ERROR_1015 is 100.0 %\n",
            "Accuracy for class: SLOW_QUERY_ERROR_1_1016 is 99.6 %\n"
          ]
        }
      ],
      "source": [
        "for classname, correct_count in correct_pred.items():\n",
        "    accuracy = 100 * float(correct_count) / total_pred[classname]\n",
        "    print(f'Accuracy for class: {classname:5s} is {accuracy:.1f} %')"
      ]
    },
    {
      "cell_type": "code",
      "execution_count": null,
      "id": "348d7db6-610c-4ba6-9689-c03c37fad062",
      "metadata": {
        "tags": [],
        "colab": {
          "base_uri": "https://localhost:8080/"
        },
        "id": "348d7db6-610c-4ba6-9689-c03c37fad062",
        "outputId": "eb9a2a83-78a2-47a5-f160-68fd9bd1f078"
      },
      "outputs": [
        {
          "output_type": "stream",
          "name": "stdout",
          "text": [
            "Error: SLOW_QUERY_ERROR_1_1016\n"
          ]
        }
      ],
      "source": [
        "sample_arr = torch.tensor(np.array([0,0,0,0,0,0,0,0,0,0.34,0.25,0.88,0.81,0.90,1,4.45,0.81,0.9,0.83,0.94]))\n",
        "sample_arr = sample_arr[None,:]\n",
        "#error_index = list(classes).index(\"SLOW_QUERY_ERROR_1_1016\")\n",
        "with torch.no_grad():\n",
        "    model.eval()\n",
        "    inp = sample_arr.type(torch.float)\n",
        "    out = model(inp)\n",
        "    _, predictions = torch.max(out, 1)\n",
        "    #list(classes)[predictions.item()]\n",
        "    print(f'Error: {list(classes)[predictions.item()]}')"
      ]
    },
    {
      "cell_type": "code",
      "execution_count": null,
      "id": "ac57329a-a860-4e66-a531-95e9572bae33",
      "metadata": {
        "id": "ac57329a-a860-4e66-a531-95e9572bae33"
      },
      "outputs": [],
      "source": []
    }
  ],
  "metadata": {
    "kernelspec": {
      "display_name": "Python 3 (ipykernel)",
      "language": "python",
      "name": "python3"
    },
    "language_info": {
      "codemirror_mode": {
        "name": "ipython",
        "version": 3
      },
      "file_extension": ".py",
      "mimetype": "text/x-python",
      "name": "python",
      "nbconvert_exporter": "python",
      "pygments_lexer": "ipython3",
      "version": "3.8.10"
    },
    "colab": {
      "provenance": []
    }
  },
  "nbformat": 4,
  "nbformat_minor": 5
}